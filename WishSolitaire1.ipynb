{
 "cells": [
  {
   "cell_type": "code",
   "execution_count": 1,
   "metadata": {},
   "outputs": [
    {
     "name": "stdout",
     "output_type": "stream",
     "text": [
      "♠\n"
     ]
    }
   ],
   "source": [
    "spar='\\u2660' #Unicode string\n",
    "print(spar)"
   ]
  },
  {
   "cell_type": "code",
   "execution_count": 2,
   "metadata": {},
   "outputs": [
    {
     "name": "stdout",
     "output_type": "stream",
     "text": [
      "♥\n"
     ]
    }
   ],
   "source": [
    "print('\\u2665')"
   ]
  },
  {
   "cell_type": "code",
   "execution_count": 3,
   "metadata": {},
   "outputs": [],
   "source": [
    "# d=[]\n",
    "# for i in range(0,5):\n",
    "#     d.append(f'\\u2665{i}') # format your string \n",
    "# print(d)"
   ]
  },
  {
   "cell_type": "code",
   "execution_count": 4,
   "metadata": {},
   "outputs": [
    {
     "name": "stdout",
     "output_type": "stream",
     "text": [
      "My name is ABC and I am 19 years old.\n",
      "My name is ABC and I am 19 years old.\n"
     ]
    }
   ],
   "source": [
    "name = 'ABC'\n",
    "age = 19\n",
    "\n",
    "#The f or F in front of strings tell Python to look at the values inside {} and \n",
    "#substitute them with the variables values if exists.\n",
    "print('My name is {0} and I am {1} years old.'.format(name,age))\n",
    "print(f'My name is {name} and I am {age} years old.')\n",
    "# Formatted string literals, new in Python 3.6"
   ]
  },
  {
   "cell_type": "code",
   "execution_count": 5,
   "metadata": {
    "scrolled": true
   },
   "outputs": [],
   "source": [
    "# deck = []\n",
    "# for i in range(7, 15):\n",
    "#     deck.append(f'\\u2665 {i}')\n",
    "#     deck.append(f'\\u2663 {i}')\n",
    "#     deck.append(f'\\u2666 {i}')\n",
    "#     deck.append(f'\\u2660 {i}')\n",
    "# print(deck)"
   ]
  },
  {
   "cell_type": "markdown",
   "metadata": {},
   "source": [
    "# Create a program that allows the user to play Wish Solitaire."
   ]
  },
  {
   "cell_type": "markdown",
   "metadata": {},
   "source": [
    "## Create Deck"
   ]
  },
  {
   "cell_type": "code",
   "execution_count": 6,
   "metadata": {
    "scrolled": false
   },
   "outputs": [
    {
     "name": "stdout",
     "output_type": "stream",
     "text": [
      "['♥ A', '♥ 7', '♥ 8', '♥ 9', '♥ 10', '♥ J', '♥ Q', '♥ K', '♣ A', '♣ 7', '♣ 8', '♣ 9', '♣ 10', '♣ J', '♣ Q', '♣ K', '♦ A', '♦ 7', '♦ 8', '♦ 9', '♦ 10', '♦ J', '♦ Q', '♦ K', '♠ A', '♠ 7', '♠ 8', '♠ 9', '♠ 10', '♠ J', '♠ Q', '♠ K']\n",
      "32\n"
     ]
    }
   ],
   "source": [
    "deck = []\n",
    "for i in ['\\u2665', '\\u2663', '\\u2666', '\\u2660']: \n",
    "    for j in ['A',7,8,9,10,'J','Q','K']:\n",
    "        deck.append(i+' '+str(j))\n",
    "print(deck)\n",
    "print(len(deck))"
   ]
  },
  {
   "cell_type": "markdown",
   "metadata": {},
   "source": [
    "## Shuffle Deck"
   ]
  },
  {
   "cell_type": "code",
   "execution_count": 7,
   "metadata": {},
   "outputs": [],
   "source": [
    "from random import *\n",
    "def shuff(deck):\n",
    "    shuffle(deck)\n",
    "    return deck"
   ]
  },
  {
   "cell_type": "code",
   "execution_count": 8,
   "metadata": {},
   "outputs": [
    {
     "data": {
      "text/plain": [
       "['♦ 7',\n",
       " '♣ 8',\n",
       " '♥ K',\n",
       " '♥ Q',\n",
       " '♦ K',\n",
       " '♥ 10',\n",
       " '♣ 7',\n",
       " '♥ 7',\n",
       " '♠ 8',\n",
       " '♣ 10',\n",
       " '♦ J',\n",
       " '♠ 10',\n",
       " '♣ 9',\n",
       " '♠ K',\n",
       " '♠ A',\n",
       " '♦ 10',\n",
       " '♠ Q',\n",
       " '♣ Q',\n",
       " '♦ 9',\n",
       " '♠ 7',\n",
       " '♠ J',\n",
       " '♥ 9',\n",
       " '♣ A',\n",
       " '♣ K',\n",
       " '♥ 8',\n",
       " '♥ A',\n",
       " '♦ A',\n",
       " '♣ J',\n",
       " '♥ J',\n",
       " '♠ 9',\n",
       " '♦ Q',\n",
       " '♦ 8']"
      ]
     },
     "execution_count": 8,
     "metadata": {},
     "output_type": "execute_result"
    }
   ],
   "source": [
    "shuff(deck)"
   ]
  },
  {
   "cell_type": "code",
   "execution_count": 9,
   "metadata": {},
   "outputs": [
    {
     "name": "stdout",
     "output_type": "stream",
     "text": [
      "10\n",
      "10\n"
     ]
    }
   ],
   "source": [
    "a=20\n",
    "if (a>0):\n",
    "    a=10\n",
    "    print(a)\n",
    "print(a)"
   ]
  },
  {
   "cell_type": "markdown",
   "metadata": {},
   "source": [
    "## Split Deck"
   ]
  },
  {
   "cell_type": "code",
   "execution_count": 10,
   "metadata": {},
   "outputs": [],
   "source": [
    "def split(deck):\n",
    "    deck = [deck[x:x + 4] for x in range(0, len(deck), 4)]\n",
    "    return deck"
   ]
  },
  {
   "cell_type": "code",
   "execution_count": 11,
   "metadata": {
    "scrolled": true
   },
   "outputs": [],
   "source": [
    "# decks=split(deck)"
   ]
  },
  {
   "cell_type": "code",
   "execution_count": 12,
   "metadata": {},
   "outputs": [],
   "source": [
    "# print(deck)\n",
    "# print(\"\\n\")\n",
    "# print(deck.pop())"
   ]
  },
  {
   "cell_type": "code",
   "execution_count": 13,
   "metadata": {},
   "outputs": [],
   "source": [
    "# decks[0]"
   ]
  },
  {
   "cell_type": "code",
   "execution_count": 14,
   "metadata": {
    "scrolled": true
   },
   "outputs": [
    {
     "data": {
      "text/plain": [
       "[['♦ 7', '♣ 8', '♥ K', '♥ Q'],\n",
       " ['♦ K', '♥ 10', '♣ 7', '♥ 7'],\n",
       " ['♠ 8', '♣ 10', '♦ J', '♠ 10'],\n",
       " ['♣ 9', '♠ K', '♠ A', '♦ 10'],\n",
       " ['♠ Q', '♣ Q', '♦ 9', '♠ 7'],\n",
       " ['♠ J', '♥ 9', '♣ A', '♣ K'],\n",
       " ['♥ 8', '♥ A', '♦ A', '♣ J'],\n",
       " ['♥ J', '♠ 9', '♦ Q', '♦ 8']]"
      ]
     },
     "execution_count": 14,
     "metadata": {},
     "output_type": "execute_result"
    }
   ],
   "source": [
    "stacks = split(deck)\n",
    "stacks"
   ]
  },
  {
   "cell_type": "markdown",
   "metadata": {},
   "source": [
    "# Select and play the game"
   ]
  },
  {
   "cell_type": "code",
   "execution_count": 52,
   "metadata": {},
   "outputs": [],
   "source": [
    "# # SELECT PAIR\n",
    "# letters = list('ABCDEFGH')\n",
    "# convert={'A': 0, 'B': 1, 'C': 2, 'D': 3, 'E': 4, 'F': 5, 'G': 6, 'H': 7}\n",
    "# print(stacks)\n",
    "# print(stacks[convert['C']][0][2:])\n",
    "# # print(convert['C'])\n",
    "# print(stacks[[convert['C']].pop(0)])\n",
    "# print(stacks[convert['C']].pop(0))\n",
    "# print(stacks)"
   ]
  },
  {
   "cell_type": "code",
   "execution_count": 51,
   "metadata": {},
   "outputs": [],
   "source": [
    "# di={'A': 0, 'B': 1, 'C': 2}\n",
    "# for i in di:\n",
    "#     print(i.value)"
   ]
  },
  {
   "cell_type": "code",
   "execution_count": 16,
   "metadata": {},
   "outputs": [],
   "source": [
    "def selectPair(c1, c2):\n",
    "    global stacks\n",
    "    letters = list('ABCDEFGH')\n",
    "    convert = {'A': 0, 'B': 1, 'C': 2, 'D': 3, 'E': 4, 'F': 5, 'G': 6, 'H': 7}\n",
    "\n",
    "    if c1 != c2 and c1 in letters and c2 in letters and stacks[convert[c1]][0][2:] == stacks[convert[c2]][0][2:]:\n",
    "        stacks[convert[c1]].pop(0)\n",
    "        stacks[convert[c2]].pop(0)\n",
    "    else:\n",
    "        print('Invalid input. Try again.')"
   ]
  },
  {
   "cell_type": "code",
   "execution_count": 43,
   "metadata": {},
   "outputs": [],
   "source": [
    "# # LOSS\n",
    "# # li=[['ab','vf','vgggf'],['ab','vf','vf'],['abjkk','vf','vf']]\n",
    "# print(stacks)\n",
    "# cpy=[]\n",
    "# for i in stacks:\n",
    "# #     print(i)\n",
    "# #     print(i[0][2:])\n",
    "#     cpy.append((i[0][2:]))\n",
    "# cpyc=set(cpy)\n",
    "# print(cpyc,cpy)\n",
    "# if(len(cpy)==len(cpyc)):\n",
    "#     print(\"Yeah\")\n",
    "# else:\n",
    "#     print(\"?\")"
   ]
  },
  {
   "cell_type": "code",
   "execution_count": 18,
   "metadata": {},
   "outputs": [],
   "source": [
    "def loss(cards):\n",
    "    copy = []\n",
    "    for item in cards:\n",
    "        try:  # throws error if stack is empty\n",
    "            copy.append(int(item[0][2:]))\n",
    "        except:\n",
    "            continue\n",
    "\n",
    "    copy_check = set(copy)\n",
    "    if len(copy) == len(copy_check):\n",
    "        return True"
   ]
  },
  {
   "cell_type": "code",
   "execution_count": 41,
   "metadata": {},
   "outputs": [],
   "source": [
    "# # WIN\n",
    "# #Returns len of whole list including inner elements\n",
    "# l=[[1,3,4],[3,3,2],[1,2,3],[3,2,4,8],[]]\n",
    "# for x in l:\n",
    "#     print(len(x))\n",
    "# sum([len(x) for x in l]) "
   ]
  },
  {
   "cell_type": "code",
   "execution_count": 20,
   "metadata": {},
   "outputs": [],
   "source": [
    "def win(cards):\n",
    "    if sum([len(x) for x in cards]) == 0:  # if nothing is added, then there's no cards left\n",
    "        return True"
   ]
  },
  {
   "cell_type": "code",
   "execution_count": 21,
   "metadata": {},
   "outputs": [],
   "source": [
    "import pickle\n",
    "def save(cards):\n",
    "    pickle.dump(cards, open('save.p', 'wb'))"
   ]
  },
  {
   "cell_type": "code",
   "execution_count": 22,
   "metadata": {},
   "outputs": [],
   "source": [
    "def load():\n",
    "    global stacks\n",
    "    try:\n",
    "        stacks = pickle.load(open('save.p', 'rb'))\n",
    "        game(stacks)\n",
    "    except FileNotFoundError:\n",
    "        print('No saved state found.')"
   ]
  },
  {
   "cell_type": "code",
   "execution_count": 37,
   "metadata": {},
   "outputs": [],
   "source": [
    "# # NEW GAME\n",
    "# a=[['ab','vf','vgggf'],['ab','vf','vf'],['abjkk','vf','vf'],[]]\n",
    "# print(list(enumerate(a)))\n",
    "# for index, stack in enumerate(a):\n",
    "#     print(index,stack)\n",
    "#     if len(stack) > 0:\n",
    "#         print(len(stack),len(stack[0])%2)\n",
    "#     else:\n",
    "#         print('')\n"
   ]
  },
  {
   "cell_type": "code",
   "execution_count": 38,
   "metadata": {},
   "outputs": [],
   "source": [
    "# # NEW GAME\n",
    "# letters = list('ABCDEFGH')\n",
    "# for index, stack in enumerate(stacks):\n",
    "#     if len(stack) > 0:\n",
    "# #          print(f'{letters[index]}: {stack[0]} {\" \"* (len(stack[0])%2)}{\"? \"* len(stack[1:])}')\n",
    "#         print(f'{letters[index]}: {stack[0]} {len(stack[1:]) +1}')\n",
    "#     else:\n",
    "#         print(f'{letters[index]}: {0}')"
   ]
  },
  {
   "cell_type": "code",
   "execution_count": 25,
   "metadata": {},
   "outputs": [],
   "source": [
    "def game(cards):\n",
    "    print(cards)\n",
    "    letters = list('ABCDEFGH')\n",
    "    while True:\n",
    "        if win(cards):\n",
    "            print('Congratulations! You won.')\n",
    "            break\n",
    "        elif loss(cards):\n",
    "            print('You lose.')\n",
    "            break\n",
    "        else:\n",
    "            for index, stack in enumerate(cards):\n",
    "                if len(stack) > 0:\n",
    "                    #print(f'{letters[index]}: {stack[0]} {\" \"* (len(stack[0])%2)}{\"? \"* len(stack[1:])}')\n",
    "                    print(f'{letters[index]}: {stack[0]} {\"? \"* len(stack[1:])}')\n",
    "                else:\n",
    "                    print(f'{letters[index]}: ')\n",
    "\n",
    "            print('\\n\"s\" to save or \"menu\" to go back to menu or input cards')\n",
    "            user = input('Choose cards you want to remove (e.g. CF): ').upper()\n",
    "            if user == 'S': \n",
    "                save(cards)\n",
    "            elif user == 'MENU': \n",
    "                menu()\n",
    "            else:\n",
    "                if len(user) == 2:\n",
    "                    c1 = user[0]\n",
    "                    c2 = user[1]\n",
    "                    selectPair(c1, c2)\n",
    "                else: game(cards)"
   ]
  },
  {
   "cell_type": "code",
   "execution_count": 26,
   "metadata": {},
   "outputs": [],
   "source": [
    "def menu():\n",
    "    global stacks\n",
    "    import sys\n",
    "\n",
    "    menu_list = '''\n",
    "    ---------------\n",
    "    1 - new game\n",
    "    2 - load state\n",
    "    3 - exit\n",
    "    ---------------\n",
    "    '''\n",
    "\n",
    "    print(menu_list)\n",
    "    user_choice = input('Choose option: ')\n",
    "    if user_choice == '1':\n",
    "        stacks = shuff(deck)\n",
    "        stacks=split(stacks)\n",
    "        game(stacks)\n",
    "    elif user_choice == '2':\n",
    "        load()\n",
    "    elif user_choice == '3':\n",
    "        sys.exit()\n",
    "    else:\n",
    "        print('Invalid option.')\n",
    "\n",
    "    menu()"
   ]
  },
  {
   "cell_type": "code",
   "execution_count": 27,
   "metadata": {},
   "outputs": [
    {
     "name": "stdout",
     "output_type": "stream",
     "text": [
      "\n",
      "    ---------------\n",
      "    1 - new game\n",
      "    2 - load state\n",
      "    3 - exit\n",
      "    ---------------\n",
      "    \n",
      "Choose option: 2\n",
      "No saved state found.\n",
      "\n",
      "    ---------------\n",
      "    1 - new game\n",
      "    2 - load state\n",
      "    3 - exit\n",
      "    ---------------\n",
      "    \n",
      "Choose option: 1\n",
      "[['♥ 9', '♣ 9', '♠ Q', '♦ 9'], ['♠ 9', '♣ 10', '♠ 7', '♥ J'], ['♣ A', '♦ 10', '♥ A', '♦ A'], ['♦ Q', '♥ 10', '♥ 7', '♠ J'], ['♣ Q', '♦ K', '♣ 7', '♦ 7'], ['♠ 10', '♥ K', '♦ J', '♥ 8'], ['♦ 8', '♣ 8', '♥ Q', '♠ A'], ['♠ 8', '♣ J', '♣ K', '♠ K']]\n",
      "A: ♥ 9 ? ? ? \n",
      "B: ♠ 9 ? ? ? \n",
      "C: ♣ A ? ? ? \n",
      "D: ♦ Q ? ? ? \n",
      "E: ♣ Q ? ? ? \n",
      "F: ♠ 10 ? ? ? \n",
      "G: ♦ 8 ? ? ? \n",
      "H: ♠ 8 ? ? ? \n",
      "\n",
      "\"s\" to save or \"menu\" to go back to menu or input cards\n",
      "Choose cards you want to remove (e.g. CF): s\n",
      "A: ♥ 9 ? ? ? \n",
      "B: ♠ 9 ? ? ? \n",
      "C: ♣ A ? ? ? \n",
      "D: ♦ Q ? ? ? \n",
      "E: ♣ Q ? ? ? \n",
      "F: ♠ 10 ? ? ? \n",
      "G: ♦ 8 ? ? ? \n",
      "H: ♠ 8 ? ? ? \n",
      "\n",
      "\"s\" to save or \"menu\" to go back to menu or input cards\n",
      "Choose cards you want to remove (e.g. CF): menu\n",
      "\n",
      "    ---------------\n",
      "    1 - new game\n",
      "    2 - load state\n",
      "    3 - exit\n",
      "    ---------------\n",
      "    \n",
      "Choose option: 2\n",
      "[['♥ 9', '♣ 9', '♠ Q', '♦ 9'], ['♠ 9', '♣ 10', '♠ 7', '♥ J'], ['♣ A', '♦ 10', '♥ A', '♦ A'], ['♦ Q', '♥ 10', '♥ 7', '♠ J'], ['♣ Q', '♦ K', '♣ 7', '♦ 7'], ['♠ 10', '♥ K', '♦ J', '♥ 8'], ['♦ 8', '♣ 8', '♥ Q', '♠ A'], ['♠ 8', '♣ J', '♣ K', '♠ K']]\n",
      "A: ♥ 9 ? ? ? \n",
      "B: ♠ 9 ? ? ? \n",
      "C: ♣ A ? ? ? \n",
      "D: ♦ Q ? ? ? \n",
      "E: ♣ Q ? ? ? \n",
      "F: ♠ 10 ? ? ? \n",
      "G: ♦ 8 ? ? ? \n",
      "H: ♠ 8 ? ? ? \n",
      "\n",
      "\"s\" to save or \"menu\" to go back to menu or input cards\n"
     ]
    },
    {
     "ename": "KeyboardInterrupt",
     "evalue": "Interrupted by user",
     "output_type": "error",
     "traceback": [
      "\u001b[0;31m---------------------------------------------------------------------------\u001b[0m",
      "\u001b[0;31mKeyboardInterrupt\u001b[0m                         Traceback (most recent call last)",
      "\u001b[0;32m<ipython-input-27-a554a8713acc>\u001b[0m in \u001b[0;36m<module>\u001b[0;34m\u001b[0m\n\u001b[0;32m----> 1\u001b[0;31m \u001b[0mmenu\u001b[0m\u001b[0;34m(\u001b[0m\u001b[0;34m)\u001b[0m\u001b[0;34m\u001b[0m\u001b[0;34m\u001b[0m\u001b[0m\n\u001b[0m",
      "\u001b[0;32m<ipython-input-26-9635e73a1a7c>\u001b[0m in \u001b[0;36mmenu\u001b[0;34m()\u001b[0m\n\u001b[1;32m     24\u001b[0m         \u001b[0mprint\u001b[0m\u001b[0;34m(\u001b[0m\u001b[0;34m'Invalid option.'\u001b[0m\u001b[0;34m)\u001b[0m\u001b[0;34m\u001b[0m\u001b[0;34m\u001b[0m\u001b[0m\n\u001b[1;32m     25\u001b[0m \u001b[0;34m\u001b[0m\u001b[0m\n\u001b[0;32m---> 26\u001b[0;31m     \u001b[0mmenu\u001b[0m\u001b[0;34m(\u001b[0m\u001b[0;34m)\u001b[0m\u001b[0;34m\u001b[0m\u001b[0;34m\u001b[0m\u001b[0m\n\u001b[0m",
      "\u001b[0;32m<ipython-input-26-9635e73a1a7c>\u001b[0m in \u001b[0;36mmenu\u001b[0;34m()\u001b[0m\n\u001b[1;32m     16\u001b[0m         \u001b[0mstacks\u001b[0m \u001b[0;34m=\u001b[0m \u001b[0mshuff\u001b[0m\u001b[0;34m(\u001b[0m\u001b[0mdeck\u001b[0m\u001b[0;34m)\u001b[0m\u001b[0;34m\u001b[0m\u001b[0;34m\u001b[0m\u001b[0m\n\u001b[1;32m     17\u001b[0m         \u001b[0mstacks\u001b[0m\u001b[0;34m=\u001b[0m\u001b[0msplit\u001b[0m\u001b[0;34m(\u001b[0m\u001b[0mstacks\u001b[0m\u001b[0;34m)\u001b[0m\u001b[0;34m\u001b[0m\u001b[0;34m\u001b[0m\u001b[0m\n\u001b[0;32m---> 18\u001b[0;31m         \u001b[0mgame\u001b[0m\u001b[0;34m(\u001b[0m\u001b[0mstacks\u001b[0m\u001b[0;34m)\u001b[0m\u001b[0;34m\u001b[0m\u001b[0;34m\u001b[0m\u001b[0m\n\u001b[0m\u001b[1;32m     19\u001b[0m     \u001b[0;32melif\u001b[0m \u001b[0muser_choice\u001b[0m \u001b[0;34m==\u001b[0m \u001b[0;34m'2'\u001b[0m\u001b[0;34m:\u001b[0m\u001b[0;34m\u001b[0m\u001b[0;34m\u001b[0m\u001b[0m\n\u001b[1;32m     20\u001b[0m         \u001b[0mload\u001b[0m\u001b[0;34m(\u001b[0m\u001b[0;34m)\u001b[0m\u001b[0;34m\u001b[0m\u001b[0;34m\u001b[0m\u001b[0m\n",
      "\u001b[0;32m<ipython-input-25-e6d5bfbc55ec>\u001b[0m in \u001b[0;36mgame\u001b[0;34m(cards)\u001b[0m\n\u001b[1;32m     22\u001b[0m                 \u001b[0msave\u001b[0m\u001b[0;34m(\u001b[0m\u001b[0mcards\u001b[0m\u001b[0;34m)\u001b[0m\u001b[0;34m\u001b[0m\u001b[0;34m\u001b[0m\u001b[0m\n\u001b[1;32m     23\u001b[0m             \u001b[0;32melif\u001b[0m \u001b[0muser\u001b[0m \u001b[0;34m==\u001b[0m \u001b[0;34m'MENU'\u001b[0m\u001b[0;34m:\u001b[0m\u001b[0;34m\u001b[0m\u001b[0;34m\u001b[0m\u001b[0m\n\u001b[0;32m---> 24\u001b[0;31m                 \u001b[0mmenu\u001b[0m\u001b[0;34m(\u001b[0m\u001b[0;34m)\u001b[0m\u001b[0;34m\u001b[0m\u001b[0;34m\u001b[0m\u001b[0m\n\u001b[0m\u001b[1;32m     25\u001b[0m             \u001b[0;32melse\u001b[0m\u001b[0;34m:\u001b[0m\u001b[0;34m\u001b[0m\u001b[0;34m\u001b[0m\u001b[0m\n\u001b[1;32m     26\u001b[0m                 \u001b[0;32mif\u001b[0m \u001b[0mlen\u001b[0m\u001b[0;34m(\u001b[0m\u001b[0muser\u001b[0m\u001b[0;34m)\u001b[0m \u001b[0;34m==\u001b[0m \u001b[0;36m2\u001b[0m\u001b[0;34m:\u001b[0m\u001b[0;34m\u001b[0m\u001b[0;34m\u001b[0m\u001b[0m\n",
      "\u001b[0;32m<ipython-input-26-9635e73a1a7c>\u001b[0m in \u001b[0;36mmenu\u001b[0;34m()\u001b[0m\n\u001b[1;32m     18\u001b[0m         \u001b[0mgame\u001b[0m\u001b[0;34m(\u001b[0m\u001b[0mstacks\u001b[0m\u001b[0;34m)\u001b[0m\u001b[0;34m\u001b[0m\u001b[0;34m\u001b[0m\u001b[0m\n\u001b[1;32m     19\u001b[0m     \u001b[0;32melif\u001b[0m \u001b[0muser_choice\u001b[0m \u001b[0;34m==\u001b[0m \u001b[0;34m'2'\u001b[0m\u001b[0;34m:\u001b[0m\u001b[0;34m\u001b[0m\u001b[0;34m\u001b[0m\u001b[0m\n\u001b[0;32m---> 20\u001b[0;31m         \u001b[0mload\u001b[0m\u001b[0;34m(\u001b[0m\u001b[0;34m)\u001b[0m\u001b[0;34m\u001b[0m\u001b[0;34m\u001b[0m\u001b[0m\n\u001b[0m\u001b[1;32m     21\u001b[0m     \u001b[0;32melif\u001b[0m \u001b[0muser_choice\u001b[0m \u001b[0;34m==\u001b[0m \u001b[0;34m'3'\u001b[0m\u001b[0;34m:\u001b[0m\u001b[0;34m\u001b[0m\u001b[0;34m\u001b[0m\u001b[0m\n\u001b[1;32m     22\u001b[0m         \u001b[0msys\u001b[0m\u001b[0;34m.\u001b[0m\u001b[0mexit\u001b[0m\u001b[0;34m(\u001b[0m\u001b[0;34m)\u001b[0m\u001b[0;34m\u001b[0m\u001b[0;34m\u001b[0m\u001b[0m\n",
      "\u001b[0;32m<ipython-input-22-d4fc01f68cdb>\u001b[0m in \u001b[0;36mload\u001b[0;34m()\u001b[0m\n\u001b[1;32m      3\u001b[0m     \u001b[0;32mtry\u001b[0m\u001b[0;34m:\u001b[0m\u001b[0;34m\u001b[0m\u001b[0;34m\u001b[0m\u001b[0m\n\u001b[1;32m      4\u001b[0m         \u001b[0mstacks\u001b[0m \u001b[0;34m=\u001b[0m \u001b[0mpickle\u001b[0m\u001b[0;34m.\u001b[0m\u001b[0mload\u001b[0m\u001b[0;34m(\u001b[0m\u001b[0mopen\u001b[0m\u001b[0;34m(\u001b[0m\u001b[0;34m'save.p'\u001b[0m\u001b[0;34m,\u001b[0m \u001b[0;34m'rb'\u001b[0m\u001b[0;34m)\u001b[0m\u001b[0;34m)\u001b[0m\u001b[0;34m\u001b[0m\u001b[0;34m\u001b[0m\u001b[0m\n\u001b[0;32m----> 5\u001b[0;31m         \u001b[0mgame\u001b[0m\u001b[0;34m(\u001b[0m\u001b[0mstacks\u001b[0m\u001b[0;34m)\u001b[0m\u001b[0;34m\u001b[0m\u001b[0;34m\u001b[0m\u001b[0m\n\u001b[0m\u001b[1;32m      6\u001b[0m     \u001b[0;32mexcept\u001b[0m \u001b[0mFileNotFoundError\u001b[0m\u001b[0;34m:\u001b[0m\u001b[0;34m\u001b[0m\u001b[0;34m\u001b[0m\u001b[0m\n\u001b[1;32m      7\u001b[0m         \u001b[0mprint\u001b[0m\u001b[0;34m(\u001b[0m\u001b[0;34m'No saved state found.'\u001b[0m\u001b[0;34m)\u001b[0m\u001b[0;34m\u001b[0m\u001b[0;34m\u001b[0m\u001b[0m\n",
      "\u001b[0;32m<ipython-input-25-e6d5bfbc55ec>\u001b[0m in \u001b[0;36mgame\u001b[0;34m(cards)\u001b[0m\n\u001b[1;32m     18\u001b[0m \u001b[0;34m\u001b[0m\u001b[0m\n\u001b[1;32m     19\u001b[0m             \u001b[0mprint\u001b[0m\u001b[0;34m(\u001b[0m\u001b[0;34m'\\n\"s\" to save or \"menu\" to go back to menu or input cards'\u001b[0m\u001b[0;34m)\u001b[0m\u001b[0;34m\u001b[0m\u001b[0;34m\u001b[0m\u001b[0m\n\u001b[0;32m---> 20\u001b[0;31m             \u001b[0muser\u001b[0m \u001b[0;34m=\u001b[0m \u001b[0minput\u001b[0m\u001b[0;34m(\u001b[0m\u001b[0;34m'Choose cards you want to remove (e.g. CF): '\u001b[0m\u001b[0;34m)\u001b[0m\u001b[0;34m.\u001b[0m\u001b[0mupper\u001b[0m\u001b[0;34m(\u001b[0m\u001b[0;34m)\u001b[0m\u001b[0;34m\u001b[0m\u001b[0;34m\u001b[0m\u001b[0m\n\u001b[0m\u001b[1;32m     21\u001b[0m             \u001b[0;32mif\u001b[0m \u001b[0muser\u001b[0m \u001b[0;34m==\u001b[0m \u001b[0;34m'S'\u001b[0m\u001b[0;34m:\u001b[0m\u001b[0;34m\u001b[0m\u001b[0;34m\u001b[0m\u001b[0m\n\u001b[1;32m     22\u001b[0m                 \u001b[0msave\u001b[0m\u001b[0;34m(\u001b[0m\u001b[0mcards\u001b[0m\u001b[0;34m)\u001b[0m\u001b[0;34m\u001b[0m\u001b[0;34m\u001b[0m\u001b[0m\n",
      "\u001b[0;32m/usr/lib/python3/dist-packages/ipykernel/kernelbase.py\u001b[0m in \u001b[0;36mraw_input\u001b[0;34m(self, prompt)\u001b[0m\n\u001b[1;32m    858\u001b[0m                 \u001b[0;34m\"raw_input was called, but this frontend does not support input requests.\"\u001b[0m\u001b[0;34m\u001b[0m\u001b[0;34m\u001b[0m\u001b[0m\n\u001b[1;32m    859\u001b[0m             )\n\u001b[0;32m--> 860\u001b[0;31m         return self._input_request(str(prompt),\n\u001b[0m\u001b[1;32m    861\u001b[0m             \u001b[0mself\u001b[0m\u001b[0;34m.\u001b[0m\u001b[0m_parent_ident\u001b[0m\u001b[0;34m,\u001b[0m\u001b[0;34m\u001b[0m\u001b[0;34m\u001b[0m\u001b[0m\n\u001b[1;32m    862\u001b[0m             \u001b[0mself\u001b[0m\u001b[0;34m.\u001b[0m\u001b[0m_parent_header\u001b[0m\u001b[0;34m,\u001b[0m\u001b[0;34m\u001b[0m\u001b[0;34m\u001b[0m\u001b[0m\n",
      "\u001b[0;32m/usr/lib/python3/dist-packages/ipykernel/kernelbase.py\u001b[0m in \u001b[0;36m_input_request\u001b[0;34m(self, prompt, ident, parent, password)\u001b[0m\n\u001b[1;32m    891\u001b[0m             \u001b[0;32mexcept\u001b[0m \u001b[0mKeyboardInterrupt\u001b[0m\u001b[0;34m:\u001b[0m\u001b[0;34m\u001b[0m\u001b[0;34m\u001b[0m\u001b[0m\n\u001b[1;32m    892\u001b[0m                 \u001b[0;31m# re-raise KeyboardInterrupt, to truncate traceback\u001b[0m\u001b[0;34m\u001b[0m\u001b[0;34m\u001b[0m\u001b[0;34m\u001b[0m\u001b[0m\n\u001b[0;32m--> 893\u001b[0;31m                 \u001b[0;32mraise\u001b[0m \u001b[0mKeyboardInterrupt\u001b[0m\u001b[0;34m(\u001b[0m\u001b[0;34m\"Interrupted by user\"\u001b[0m\u001b[0;34m)\u001b[0m \u001b[0;32mfrom\u001b[0m \u001b[0;32mNone\u001b[0m\u001b[0;34m\u001b[0m\u001b[0;34m\u001b[0m\u001b[0m\n\u001b[0m\u001b[1;32m    894\u001b[0m             \u001b[0;32melse\u001b[0m\u001b[0;34m:\u001b[0m\u001b[0;34m\u001b[0m\u001b[0;34m\u001b[0m\u001b[0m\n\u001b[1;32m    895\u001b[0m                 \u001b[0;32mbreak\u001b[0m\u001b[0;34m\u001b[0m\u001b[0;34m\u001b[0m\u001b[0m\n",
      "\u001b[0;31mKeyboardInterrupt\u001b[0m: Interrupted by user"
     ]
    }
   ],
   "source": [
    "menu()"
   ]
  }
 ],
 "metadata": {
  "kernelspec": {
   "display_name": "Python 3",
   "language": "python",
   "name": "python3"
  },
  "language_info": {
   "codemirror_mode": {
    "name": "ipython",
    "version": 3
   },
   "file_extension": ".py",
   "mimetype": "text/x-python",
   "name": "python",
   "nbconvert_exporter": "python",
   "pygments_lexer": "ipython3",
   "version": "3.8.10"
  }
 },
 "nbformat": 4,
 "nbformat_minor": 4
}
