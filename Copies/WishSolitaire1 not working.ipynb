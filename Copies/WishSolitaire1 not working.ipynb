{
 "cells": [
  {
   "cell_type": "code",
   "execution_count": 1,
   "metadata": {},
   "outputs": [
    {
     "name": "stdout",
     "output_type": "stream",
     "text": [
      "♠\n"
     ]
    }
   ],
   "source": [
    "spar='\\u2660' #Unicode string\n",
    "print(spar)"
   ]
  },
  {
   "cell_type": "code",
   "execution_count": 2,
   "metadata": {},
   "outputs": [
    {
     "name": "stdout",
     "output_type": "stream",
     "text": [
      "♥\n"
     ]
    }
   ],
   "source": [
    "print('\\u2665')"
   ]
  },
  {
   "cell_type": "code",
   "execution_count": 3,
   "metadata": {},
   "outputs": [],
   "source": [
    "# d=[]\n",
    "# for i in range(0,5):\n",
    "#     d.append(f'\\u2665{i}') # format your string \n",
    "# print(d)"
   ]
  },
  {
   "cell_type": "code",
   "execution_count": 4,
   "metadata": {},
   "outputs": [
    {
     "name": "stdout",
     "output_type": "stream",
     "text": [
      "My name is ABC and I am 19 years old.\n",
      "My name is ABC and I am 19 years old.\n"
     ]
    }
   ],
   "source": [
    "name = 'ABC'\n",
    "age = 19\n",
    "\n",
    "#The f or F in front of strings tell Python to look at the values inside {} and \n",
    "#substitute them with the variables values if exists.\n",
    "print('My name is {0} and I am {1} years old.'.format(name,age))\n",
    "print(f'My name is {name} and I am {age} years old.')\n",
    "# Formatted string literals, new in Python 3.6"
   ]
  },
  {
   "cell_type": "code",
   "execution_count": 5,
   "metadata": {
    "scrolled": true
   },
   "outputs": [],
   "source": [
    "# deck = []\n",
    "# for i in range(7, 15):\n",
    "#     deck.append(f'\\u2665 {i}')\n",
    "#     deck.append(f'\\u2663 {i}')\n",
    "#     deck.append(f'\\u2666 {i}')\n",
    "#     deck.append(f'\\u2660 {i}')\n",
    "# print(deck)"
   ]
  },
  {
   "cell_type": "markdown",
   "metadata": {},
   "source": [
    "# Create a program that allows the user to play Wish Solitaire."
   ]
  },
  {
   "cell_type": "markdown",
   "metadata": {},
   "source": [
    "## Create Deck"
   ]
  },
  {
   "cell_type": "code",
   "execution_count": 6,
   "metadata": {
    "scrolled": false
   },
   "outputs": [
    {
     "name": "stdout",
     "output_type": "stream",
     "text": [
      "['♥ A', '♥ 7', '♥ 8', '♥ 9', '♥ 10', '♥ J', '♥ Q', '♥ K', '♣ A', '♣ 7', '♣ 8', '♣ 9', '♣ 10', '♣ J', '♣ Q', '♣ K', '♦ A', '♦ 7', '♦ 8', '♦ 9', '♦ 10', '♦ J', '♦ Q', '♦ K', '♠ A', '♠ 7', '♠ 8', '♠ 9', '♠ 10', '♠ J', '♠ Q', '♠ K']\n",
      "32\n"
     ]
    }
   ],
   "source": [
    "deck = []\n",
    "for i in ['\\u2665', '\\u2663', '\\u2666', '\\u2660']: \n",
    "    for j in ['A',7,8,9,10,'J','Q','K']:\n",
    "        deck.append(i+' '+str(j))\n",
    "print(deck)\n",
    "print(len(deck))"
   ]
  },
  {
   "cell_type": "markdown",
   "metadata": {},
   "source": [
    "## Shuffle Deck"
   ]
  },
  {
   "cell_type": "code",
   "execution_count": 7,
   "metadata": {},
   "outputs": [],
   "source": [
    "from random import *\n",
    "def shuff(deck):\n",
    "    shuffle(deck)\n",
    "    return deck"
   ]
  },
  {
   "cell_type": "code",
   "execution_count": 8,
   "metadata": {},
   "outputs": [
    {
     "data": {
      "text/plain": [
       "['♥ Q',\n",
       " '♠ 8',\n",
       " '♥ 8',\n",
       " '♦ 9',\n",
       " '♠ 10',\n",
       " '♥ A',\n",
       " '♦ 7',\n",
       " '♣ A',\n",
       " '♣ 9',\n",
       " '♠ K',\n",
       " '♠ J',\n",
       " '♣ J',\n",
       " '♦ J',\n",
       " '♥ K',\n",
       " '♦ A',\n",
       " '♣ 8',\n",
       " '♦ 8',\n",
       " '♥ 9',\n",
       " '♠ A',\n",
       " '♠ 9',\n",
       " '♥ 7',\n",
       " '♣ Q',\n",
       " '♣ K',\n",
       " '♦ Q',\n",
       " '♠ 7',\n",
       " '♦ K',\n",
       " '♣ 10',\n",
       " '♥ J',\n",
       " '♣ 7',\n",
       " '♥ 10',\n",
       " '♦ 10',\n",
       " '♠ Q']"
      ]
     },
     "execution_count": 8,
     "metadata": {},
     "output_type": "execute_result"
    }
   ],
   "source": [
    "shuff(deck)"
   ]
  },
  {
   "cell_type": "code",
   "execution_count": 9,
   "metadata": {},
   "outputs": [
    {
     "name": "stdout",
     "output_type": "stream",
     "text": [
      "10\n",
      "10\n"
     ]
    }
   ],
   "source": [
    "a=20\n",
    "if (a>0):\n",
    "    a=10\n",
    "    print(a)\n",
    "print(a)"
   ]
  },
  {
   "cell_type": "markdown",
   "metadata": {},
   "source": [
    "## Split Deck"
   ]
  },
  {
   "cell_type": "code",
   "execution_count": 10,
   "metadata": {},
   "outputs": [],
   "source": [
    "def split(deck):\n",
    "    deck = [deck[x:x + 4] for x in range(0, len(deck), 4)]\n",
    "    return deck"
   ]
  },
  {
   "cell_type": "code",
   "execution_count": 11,
   "metadata": {
    "scrolled": true
   },
   "outputs": [],
   "source": [
    "# decks=split(deck)"
   ]
  },
  {
   "cell_type": "code",
   "execution_count": 12,
   "metadata": {},
   "outputs": [],
   "source": [
    "# print(deck)\n",
    "# print(\"\\n\")\n",
    "# print(deck.pop())"
   ]
  },
  {
   "cell_type": "code",
   "execution_count": 13,
   "metadata": {},
   "outputs": [],
   "source": [
    "# decks[0]"
   ]
  },
  {
   "cell_type": "code",
   "execution_count": null,
   "metadata": {},
   "outputs": [],
   "source": []
  },
  {
   "cell_type": "code",
   "execution_count": null,
   "metadata": {},
   "outputs": [],
   "source": []
  },
  {
   "cell_type": "code",
   "execution_count": null,
   "metadata": {},
   "outputs": [],
   "source": []
  },
  {
   "cell_type": "code",
   "execution_count": null,
   "metadata": {},
   "outputs": [],
   "source": []
  },
  {
   "cell_type": "markdown",
   "metadata": {},
   "source": [
    "# Select and play the game"
   ]
  },
  {
   "cell_type": "code",
   "execution_count": 14,
   "metadata": {},
   "outputs": [],
   "source": [
    "def selectPair(c1, c2):\n",
    "    global stacks\n",
    "    letters = list('ABCDEFGH')\n",
    "    convert = {'A': 0, 'B': 1, 'C': 2, 'D': 3, 'E': 4, 'F': 5, 'G': 6, 'H': 7}\n",
    "\n",
    "    if c1 != c2 and c1 in letters and c2 in letters and stacks[convert[c1]][0][2:] == stacks[convert[c2]][0][2:]:\n",
    "        stacks[convert[c1]].pop(0)\n",
    "        stacks[convert[c2]].pop(0)\n",
    "    else:\n",
    "        print('Invalid input. Try again.')"
   ]
  },
  {
   "cell_type": "code",
   "execution_count": 15,
   "metadata": {},
   "outputs": [],
   "source": [
    "def loss(cards):\n",
    "    copy = []\n",
    "    for item in cards:\n",
    "        try:  # throws error if stack is empty\n",
    "            copy.append(int(item[0][2:]))\n",
    "        except:\n",
    "            continue\n",
    "\n",
    "    copy_check = set(copy)\n",
    "    if len(copy) == len(copy_check):\n",
    "        return True"
   ]
  },
  {
   "cell_type": "code",
   "execution_count": 16,
   "metadata": {},
   "outputs": [],
   "source": [
    "def win(cards):\n",
    "    if sum([len(x) for x in cards]) == 0:  # if nothing is added, then there's no cards left\n",
    "        return True"
   ]
  },
  {
   "cell_type": "code",
   "execution_count": 17,
   "metadata": {},
   "outputs": [],
   "source": [
    "import pickle\n",
    "def save(cards):\n",
    "    pickle.dump(cards, open('save.p', 'wb'))"
   ]
  },
  {
   "cell_type": "code",
   "execution_count": 18,
   "metadata": {},
   "outputs": [],
   "source": [
    "def load():\n",
    "    global stacks\n",
    "    try:\n",
    "        stacks = pickle.load(open('save.p', 'rb'))\n",
    "        game(stacks)\n",
    "    except FileNotFoundError:\n",
    "        print('No saved state found.')"
   ]
  },
  {
   "cell_type": "code",
   "execution_count": 19,
   "metadata": {},
   "outputs": [],
   "source": [
    "# a=[['ab','vf','vgggf'],['ab','vf','vf'],['abjkk','vf','vf'],[]]\n",
    "# print(list(enumerate(a)))\n",
    "# for index, stack in enumerate(a):\n",
    "#     print(index,stack)\n",
    "#     if len(stack) > 0:\n",
    "#         print(len(stack),len(stack[0])%2)\n",
    "#     else:\n",
    "#         print('')\n"
   ]
  },
  {
   "cell_type": "code",
   "execution_count": 20,
   "metadata": {},
   "outputs": [],
   "source": [
    "# letters = list('ABCDEFGH')\n",
    "# for index, stack in enumerate(stacks):\n",
    "#     if len(stack) > 0:\n",
    "# #          print(f'{letters[index]}: {stack[0]} {\" \"* (len(stack[0])%2)}{\"? \"* len(stack[1:])}')\n",
    "#         print(f'{letters[index]}: {stack[0]} {\" ? \"* len(stack[1:])}')\n",
    "#     else:\n",
    "#         print(f'{letters[index]}: ')"
   ]
  },
  {
   "cell_type": "code",
   "execution_count": 21,
   "metadata": {},
   "outputs": [],
   "source": [
    "def game(cards):\n",
    "    print(cards)\n",
    "    letters = list('ABCDEFGH')\n",
    "    while True:\n",
    "        if win(cards):\n",
    "            print('Congratulations! You won.')\n",
    "            break\n",
    "        elif loss(cards):\n",
    "            print('You lose.')\n",
    "            break\n",
    "        else:\n",
    "            for index, stack in enumerate(cards):\n",
    "                if len(stack) > 0:\n",
    "                    #print(f'{letters[index]}: {stack[0]} {\" \"* (len(stack[0])%2)}{\"? \"* len(stack[1:])}')\n",
    "                    print(f'{letters[index]}: {stack[0]} {\"? \"* len(stack[1:])}')\n",
    "                else:\n",
    "                    print(f'{letters[index]}: ')\n",
    "\n",
    "            print('\\n\"save\" to save state to file')\n",
    "            print('\"back\" to go back to menu')\n",
    "            user = input('Choose cards you want to remove (e.g. CF): ').upper()\n",
    "            if user == 'SAVE': \n",
    "                save(cards)\n",
    "            elif user == 'BACK': \n",
    "                menu()\n",
    "            else:\n",
    "                if len(user) == 2:\n",
    "                    c1 = user[0]\n",
    "                    c2 = user[1]\n",
    "                    selectPair(c1, c2)\n",
    "                else: game(cards)"
   ]
  },
  {
   "cell_type": "code",
   "execution_count": 22,
   "metadata": {},
   "outputs": [
    {
     "data": {
      "text/plain": [
       "[['♥ Q', '♠ 8', '♥ 8', '♦ 9'],\n",
       " ['♠ 10', '♥ A', '♦ 7', '♣ A'],\n",
       " ['♣ 9', '♠ K', '♠ J', '♣ J'],\n",
       " ['♦ J', '♥ K', '♦ A', '♣ 8'],\n",
       " ['♦ 8', '♥ 9', '♠ A', '♠ 9'],\n",
       " ['♥ 7', '♣ Q', '♣ K', '♦ Q'],\n",
       " ['♠ 7', '♦ K', '♣ 10', '♥ J'],\n",
       " ['♣ 7', '♥ 10', '♦ 10', '♠ Q']]"
      ]
     },
     "execution_count": 22,
     "metadata": {},
     "output_type": "execute_result"
    }
   ],
   "source": [
    "stacks = split(deck)\n",
    "stacks"
   ]
  },
  {
   "cell_type": "code",
   "execution_count": 23,
   "metadata": {},
   "outputs": [],
   "source": [
    "def menu():\n",
    "    global stacks\n",
    "    import sys\n",
    "\n",
    "    menu_list = '''\n",
    "    ---------------\n",
    "    1 - new game\n",
    "    2 - load state\n",
    "    3 - exit\n",
    "    ---------------\n",
    "    '''\n",
    "\n",
    "    print(menu_list)\n",
    "    user_choice = input('Choose option: ')\n",
    "    if user_choice == '1':\n",
    "        stacks = shuff(deck)\n",
    "        stacks=split(stacks)\n",
    "        game(stacks)\n",
    "    elif user_choice == '2':\n",
    "        load()\n",
    "    elif user_choice == '3':\n",
    "        sys.exit()\n",
    "    else:\n",
    "        print('Invalid option.')\n",
    "\n",
    "    menu()"
   ]
  },
  {
   "cell_type": "code",
   "execution_count": null,
   "metadata": {},
   "outputs": [
    {
     "name": "stdout",
     "output_type": "stream",
     "text": [
      "\n",
      "    ---------------\n",
      "    1 - new game\n",
      "    2 - load state\n",
      "    3 - exit\n",
      "    ---------------\n",
      "    \n",
      "Choose option: 1\n",
      "[['♦ K', '♥ Q', '♦ 10', '♠ 10'], ['♠ J', '♣ 10', '♦ Q', '♠ K'], ['♥ 7', '♣ 9', '♥ 10', '♣ A'], ['♠ 8', '♥ K', '♦ 7', '♥ 8'], ['♦ 8', '♣ 8', '♠ Q', '♦ A'], ['♣ J', '♠ A', '♣ Q', '♥ A'], ['♣ K', '♥ J', '♦ J', '♣ 7'], ['♠ 9', '♦ 9', '♠ 7', '♥ 9']]\n",
      "A: ♦ K ? ? ? \n",
      "B: ♠ J ? ? ? \n",
      "C: ♥ 7 ? ? ? \n",
      "D: ♠ 8 ? ? ? \n",
      "E: ♦ 8 ? ? ? \n",
      "F: ♣ J ? ? ? \n",
      "G: ♣ K ? ? ? \n",
      "H: ♠ 9 ? ? ? \n",
      "\n",
      "\"save\" to save state to file\n",
      "\"back\" to go back to menu\n",
      "Choose cards you want to remove (e.g. CF): de\n",
      "You lose.\n",
      "\n",
      "    ---------------\n",
      "    1 - new game\n",
      "    2 - load state\n",
      "    3 - exit\n",
      "    ---------------\n",
      "    \n",
      "Choose option: de\n",
      "Invalid option.\n",
      "\n",
      "    ---------------\n",
      "    1 - new game\n",
      "    2 - load state\n",
      "    3 - exit\n",
      "    ---------------\n",
      "    \n",
      "Choose option: ed\n",
      "Invalid option.\n",
      "\n",
      "    ---------------\n",
      "    1 - new game\n",
      "    2 - load state\n",
      "    3 - exit\n",
      "    ---------------\n",
      "    \n",
      "Choose option: ag\n",
      "Invalid option.\n",
      "\n",
      "    ---------------\n",
      "    1 - new game\n",
      "    2 - load state\n",
      "    3 - exit\n",
      "    ---------------\n",
      "    \n"
     ]
    }
   ],
   "source": [
    "menu()"
   ]
  },
  {
   "cell_type": "code",
   "execution_count": null,
   "metadata": {},
   "outputs": [],
   "source": []
  }
 ],
 "metadata": {
  "kernelspec": {
   "display_name": "Python 3",
   "language": "python",
   "name": "python3"
  },
  "language_info": {
   "codemirror_mode": {
    "name": "ipython",
    "version": 3
   },
   "file_extension": ".py",
   "mimetype": "text/x-python",
   "name": "python",
   "nbconvert_exporter": "python",
   "pygments_lexer": "ipython3",
   "version": "3.8.10"
  }
 },
 "nbformat": 4,
 "nbformat_minor": 4
}
